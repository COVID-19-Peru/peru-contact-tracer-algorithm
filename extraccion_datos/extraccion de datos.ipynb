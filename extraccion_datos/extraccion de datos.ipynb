{
 "cells": [
  {
   "cell_type": "markdown",
   "metadata": {},
   "source": [
    "# ejecutar solo cuando todos los archivo de una fecha esten en la nube"
   ]
  },
  {
   "cell_type": "code",
   "execution_count": null,
   "metadata": {},
   "outputs": [],
   "source": [
    "import os\n",
    "import numpy as np\n",
    "import pandas as pd\n",
    "from google.cloud import storage as gcs"
   ]
  },
  {
   "cell_type": "code",
   "execution_count": 2,
   "metadata": {},
   "outputs": [],
   "source": [
    "os.environ['GOOGLE_APPLICATION_CREDENTIALS'] = \"MY_CREDENTIALS\"\n",
    "client_gcs = gcs.Client()\n",
    "\n",
    "bucket = client_gcs.bucket('MY_BUCKET')"
   ]
  },
  {
   "cell_type": "code",
   "execution_count": 3,
   "metadata": {},
   "outputs": [
    {
     "data": {
      "text/plain": [
       "'/home/datos_covid/'"
      ]
     },
     "execution_count": 3,
     "metadata": {},
     "output_type": "execute_result"
    }
   ],
   "source": [
    "path = \"../ORIGEN/\"\n",
    "path_original =  path+'originales/'\n",
    "path_procesados =  path+'procesados/'\n",
    "path"
   ]
  },
  {
   "cell_type": "code",
   "execution_count": null,
   "metadata": {},
   "outputs": [],
   "source": []
  },
  {
   "cell_type": "markdown",
   "metadata": {},
   "source": [
    "### DESCARGANDO ARCHIVOS PENDIENTES"
   ]
  },
  {
   "cell_type": "code",
   "execution_count": null,
   "metadata": {},
   "outputs": [],
   "source": [
    "# DESCARGAR INFECTADOS\n",
    "count = 0\n",
    "for elem in descargar_infectado:\n",
    "    blob = bucket.blob(elem[0])\n",
    "    blob.download_to_filename(path_original+elem[1])\n",
    "    count += 1\n",
    "    print(\"Elemento\",count,\":\",path_original+elem[1])"
   ]
  },
  {
   "cell_type": "code",
   "execution_count": 5,
   "metadata": {
    "scrolled": false
   },
   "outputs": [
    {
     "name": "stdout",
     "output_type": "stream",
     "text": [
      "0 4\n"
     ]
    }
   ],
   "source": [
    "descargar_infectado = []\n",
    "descargar_records = []\n",
    "for b in bucket.list_blobs():\n",
    "    nombre = b.name\n",
    "    try:\n",
    "        data = nombre.split('/FILES/')\n",
    "        \n",
    "        if len(data) == 2 and data[1][-4:] == '.csv':\n",
    "            if data[0] == 'infected':\n",
    "                nombre_file = +data[1]\n",
    "                if not nombre_file in descargados:\n",
    "                    descargar_infectado.append([nombre,nombre_file])\n",
    "            \n",
    "            elif data[0] == 'records':\n",
    "                nombre_file = data[1]\n",
    "                if not nombre_file in descargados:\n",
    "                    descargar_records.append([nombre,nombre_file])\n",
    "    except:\n",
    "        pass\n",
    "    \n",
    "print(len(descargar_infectado),len(descargar_records))"
   ]
  },
  {
   "cell_type": "code",
   "execution_count": 4,
   "metadata": {},
   "outputs": [],
   "source": [
    "descargados = []\n",
    "# r=root, d=directories, f = files\n",
    "for r, d, f in os.walk(path_original):\n",
    "    for file in f:\n",
    "        if '.csv' in file:\n",
    "            descargados.append(file)"
   ]
  },
  {
   "cell_type": "code",
   "execution_count": null,
   "metadata": {},
   "outputs": [],
   "source": [
    "# DESCARGAR INFECTADOS\n",
    "count = 0\n",
    "for elem in descargar_infectado:\n",
    "    blob = bucket.blob(elem[0])\n",
    "    blob.download_to_filename(path_original+elem[1])"
   ]
  },
  {
   "cell_type": "markdown",
   "metadata": {},
   "source": [
    "### ORDENANDO ARCHIVOS PENDIENTES - LOCALIZACION"
   ]
  },
  {
   "cell_type": "code",
   "execution_count": 8,
   "metadata": {},
   "outputs": [],
   "source": [
    "temp = []\n",
    "# r=root, d=directories, f = files\n",
    "for r, d, f in os.walk(path_original):\n",
    "    for file in f:\n",
    "        if '.csv' in file:\n",
    "            temp.append(file)\n",
    "            \n",
    "descargados = []\n",
    "for elem in temp:\n",
    "    if elem[0:4]=='gps_':\n",
    "        descargados.append(elem)\n",
    "        \n",
    "descargados_fechas = []\n",
    "for elem in descargados:\n",
    "    descargados_fechas.append(elem[0:12])\n",
    "    \n",
    "descargados_fechas = np.unique(descargados_fechas)"
   ]
  },
  {
   "cell_type": "code",
   "execution_count": null,
   "metadata": {},
   "outputs": [],
   "source": [
    "temp = []\n",
    "# r=root, d=directories, f = files\n",
    "for r, d, f in os.walk(path_procesados):\n",
    "    for file in f:\n",
    "        if '.csv' in file:\n",
    "            temp.append(file)\n",
    "            \n",
    "procesados = []\n",
    "for elem in temp:\n",
    "    if elem[0:4]=='gps_':\n",
    "        procesados.append(elem)\n",
    "        \n",
    "procesados_fechas = []\n",
    "for elem in procesados:\n",
    "    procesados_fechas.append(elem[0:12])\n",
    "    \n",
    "procesados_fechas = np.unique(procesados_fechas)\n"
   ]
  },
  {
   "cell_type": "code",
   "execution_count": null,
   "metadata": {},
   "outputs": [],
   "source": [
    "pendientes_fecha = []\n",
    "for elem in descargados_fechas:\n",
    "    if not elem in procesados_fechas:\n",
    "        pendientes_fecha.append(elem)\n",
    "        \n",
    "pendientes_fecha"
   ]
  },
  {
   "cell_type": "code",
   "execution_count": null,
   "metadata": {},
   "outputs": [],
   "source": [
    "for fecha in pendientes_fecha:\n",
    "    temporales_fecha = []\n",
    "    for elem in descargados:\n",
    "        if fecha == elem[0:12]:\n",
    "            temporales_fecha.append(elem)\n",
    "    #print(temporales_fecha)\n",
    "    \n",
    "    numero_lotes = len(temporales_fecha)\n",
    "    \n",
    "    print(\"### \",fecha,\" ###\")\n",
    "    \n",
    "    print(\"Leyendo...\")\n",
    "    datos = pd.read_csv(path_original+temporales_fecha[0])\n",
    "    print(\"   \",temporales_fecha[0])\n",
    "    for file in temporales_fecha[1:]:\n",
    "        data_temp = pd.read_csv(path_original+file)\n",
    "        datos = pd.concat([datos,data_temp])\n",
    "        print(\"   \",file)\n",
    "    \n",
    "    print(\"Procesando...\")\n",
    "    print(\"   \",\"archivos:\",numero_lotes)\n",
    "    datos = datos.sort_values(by=['datetime']).reset_index(drop=True)   \n",
    "    rangos = []\n",
    "    count = 0\n",
    "    limite = int(len(datos)/numero_lotes)+1\n",
    "    for i in range(numero_lotes):\n",
    "        rangos.append([i,count,count+limite])\n",
    "        count = count+limite\n",
    "    \n",
    "    \n",
    "    print(\"Guardando...\")\n",
    "    for elem in rangos:\n",
    "        datos_temp = datos[(datos.index >= elem[1]) & (datos.index < elem[2])]\n",
    "\n",
    "        numero_file = 0\n",
    "        if elem[0]<10: numero_file = '0'+str(elem[0])\n",
    "        else: numero_file = str(elem[0])\n",
    "\n",
    "        path_temp = path_procesados+fecha+'_lote_'+numero_file+'.csv'\n",
    "        print(\"   \",path_temp)\n",
    "        datos_temp.to_csv(path_temp, index=False)\n",
    "        \n",
    "print(\"Terminado.../\")"
   ]
  },
  {
   "cell_type": "code",
   "execution_count": null,
   "metadata": {},
   "outputs": [],
   "source": []
  }
 ],
 "metadata": {
  "kernelspec": {
   "display_name": "Python 3.8.3 64-bit",
   "language": "python",
   "name": "python_defaultSpec_1594008157120"
  },
  "language_info": {
   "codemirror_mode": {
    "name": "ipython",
    "version": 3
   },
   "file_extension": ".py",
   "mimetype": "text/x-python",
   "name": "python",
   "nbconvert_exporter": "python",
   "pygments_lexer": "ipython3",
   "version": "3.6.10"
  }
 },
 "nbformat": 4,
 "nbformat_minor": 4
}